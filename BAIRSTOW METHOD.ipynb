{
 "cells": [
  {
   "cell_type": "code",
   "execution_count": 3,
   "metadata": {},
   "outputs": [
    {
     "name": "stdout",
     "output_type": "stream",
     "text": [
      "enter an=1\n",
      "enter a(n-1)=-3.5\n",
      "f= [1.0, -4.0, 5.226, -2.392, -0.19142400000000048, 0.20712000000000041]\n",
      "j= [1.0, -4.5, 7.952, -8.51, 7.8487279999999995, -7.768003999999999]\n",
      "matrix of r1= [[-8.51      0.191424]\n",
      " [ 7.848728 -0.20712 ]] \n",
      "matrix of r2= [[-8.51      7.952   ]\n",
      " [ 7.848728 -8.51    ]] \n",
      "matrix of s1= [[ 0.191424  7.952   ]\n",
      " [-0.20712  -8.51    ]] \n",
      "del_r= 0.025997392107821753 \n",
      "r_dash= -0.47400260789217824 \n",
      "estimation error of r= 5.484651703379531\n",
      "estimation error of s= 0.37646357167522304\n"
     ]
    }
   ],
   "source": [
    "#x**5-3.5x**4+2.75**3+2.125x**2-3.875x+1.25\n",
    "import numpy as np\n",
    "r=-0.5\n",
    "s=0.476\n",
    "lis=[2.75,2.125,-3.875,1.25]   #lis starts from a(n-2)\n",
    "an=float(input(\"enter an=\"))    # input value of an\n",
    "an_one=float(input(\"enter a(n-1)=\"))  #input value of a(n-1)\n",
    "tol=100\n",
    "lot=100\n",
    "while (tol>=50 and lot>=50):\n",
    "    bn=an\n",
    "    bn_one=an_one+r*bn\n",
    "    f=[]\n",
    "    f.append(bn)\n",
    "    f.append(bn_one)\n",
    "    for an_two in lis:\n",
    "        bi=an_two+r*bn_one+s*bn\n",
    "        bn=bn_one\n",
    "        bn_one=bi   \n",
    "        f.append(bi)\n",
    "    print(\"f=\",f)\n",
    "    cn=f[0]\n",
    "    bn_one=f[1]\n",
    "    cn_one=bn_one+r*cn\n",
    "    u=f[2::]\n",
    "    j=[]\n",
    "    j.append(cn)\n",
    "    j.append(cn_one)\n",
    "    for bn_two in u:\n",
    "        ci=bn_two+r*cn_one+s*cn\n",
    "        cn=cn_one\n",
    "        cn_one=ci   \n",
    "        j.append(ci)\n",
    "    print(\"j=\",j)\n",
    "    matrix_of_r1=np.array([j[-3],-1*f[-2],j[-2],-1*f[-1]]).reshape(2,2)   \n",
    "    matrix_of_r=np.array([j[-3],j[-4],j[-2],j[-3]]).reshape(2,2)   \n",
    "    matrix_of_s1=np.array([-1*f[-2],j[-4],-1*f[-1],j[-3]]).reshape(2,2)    \n",
    "    del_r=np.linalg.det(matrix_of_r1)/np.linalg.det(matrix_of_r) \n",
    "    r_dash=r+del_r\n",
    "    estimation_of_r=np.abs(del_r/r_dash)*100\n",
    "    print(\"matrix of r1=\",matrix_of_r1,\"\\nmatrix of r2=\",matrix_of_r,\"\\nmatrix of s1=\",matrix_of_s1,\"\\ndel_r=\",del_r,\"\\nr_dash=\",r_dash,\"\\nestimation error of r=\",estimation_of_r)\n",
    "    del_s=np.linalg.det(matrix_of_s1)/np.linalg.det(matrix_of_r)\n",
    "    s_dash=s+del_s\n",
    "    estimation_of_s=np.abs(del_s/s_dash)*100\n",
    "    print(\"estimation error of s=\",estimation_of_s)\n",
    "    tol=estimation_of_r\n",
    "    lot=estimation_of_s\n",
    "    an=f[0]\n",
    "    an_one=f[1]\n",
    "    lis=[]\n",
    "    y=len(f)\n",
    "    u=y+1\n",
    "    for i in f[2:u]:\n",
    "        lis.append(i)\n",
    "    \n"
   ]
  },
  {
   "cell_type": "code",
   "execution_count": null,
   "metadata": {},
   "outputs": [],
   "source": []
  }
 ],
 "metadata": {
  "kernelspec": {
   "display_name": "Python 3",
   "language": "python",
   "name": "python3"
  },
  "language_info": {
   "codemirror_mode": {
    "name": "ipython",
    "version": 3
   },
   "file_extension": ".py",
   "mimetype": "text/x-python",
   "name": "python",
   "nbconvert_exporter": "python",
   "pygments_lexer": "ipython3",
   "version": "3.7.3"
  }
 },
 "nbformat": 4,
 "nbformat_minor": 2
}
